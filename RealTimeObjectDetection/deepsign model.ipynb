{
 "cells": [
  {
   "cell_type": "code",
   "execution_count": 1,
   "id": "a2813063",
   "metadata": {},
   "outputs": [],
   "source": [
    "import numpy as np\n",
    "import pandas as pd\n",
    "from pathlib import Path\n",
    "import os.path\n",
    "import matplotlib.pyplot as plt\n",
    "import tensorflow as tf\n",
    "import seaborn as sns\n",
    "from time import perf_counter\n",
    "from sklearn.metrics import confusion_matrix\n",
    "from sklearn.model_selection import train_test_split\n",
    "from sklearn.metrics import classification_report,accuracy_score\n",
    "from IPython.display import Markdown, display\n",
    "\n",
    "def printmd(string):\n",
    "    # Print with Markdowns    \n",
    "    display(Markdown(string))"
   ]
  },
  {
   "cell_type": "code",
   "execution_count": 2,
   "id": "3296de2a",
   "metadata": {},
   "outputs": [
    {
     "ename": "NameError",
     "evalue": "name 'df' is not defined",
     "output_type": "error",
     "traceback": [
      "\u001b[0;31m---------------------------------------------------------------------------\u001b[0m",
      "\u001b[0;31mNameError\u001b[0m                                 Traceback (most recent call last)",
      "\u001b[0;32m<ipython-input-2-9dc40b14f38d>\u001b[0m in \u001b[0;36m<module>\u001b[0;34m\u001b[0m\n\u001b[1;32m      1\u001b[0m \u001b[0;31m# Use 5% of the dataset for testing various models\u001b[0m\u001b[0;34m\u001b[0m\u001b[0;34m\u001b[0m\u001b[0;34m\u001b[0m\u001b[0m\n\u001b[1;32m      2\u001b[0m \u001b[0;31m# Split into training and test datasets\u001b[0m\u001b[0;34m\u001b[0m\u001b[0;34m\u001b[0m\u001b[0;34m\u001b[0m\u001b[0m\n\u001b[0;32m----> 3\u001b[0;31m \u001b[0mtrain_df\u001b[0m\u001b[0;34m,\u001b[0m \u001b[0mtest_df\u001b[0m \u001b[0;34m=\u001b[0m \u001b[0mtrain_test_split\u001b[0m\u001b[0;34m(\u001b[0m\u001b[0mdf\u001b[0m\u001b[0;34m.\u001b[0m\u001b[0msample\u001b[0m\u001b[0;34m(\u001b[0m\u001b[0mfrac\u001b[0m \u001b[0;34m=\u001b[0m \u001b[0;36m0.05\u001b[0m\u001b[0;34m)\u001b[0m\u001b[0;34m,\u001b[0m \u001b[0mtest_size\u001b[0m\u001b[0;34m=\u001b[0m\u001b[0;36m0.2\u001b[0m\u001b[0;34m,\u001b[0m \u001b[0mrandom_state\u001b[0m\u001b[0;34m=\u001b[0m\u001b[0;36m0\u001b[0m\u001b[0;34m)\u001b[0m\u001b[0;34m\u001b[0m\u001b[0;34m\u001b[0m\u001b[0m\n\u001b[0m",
      "\u001b[0;31mNameError\u001b[0m: name 'df' is not defined"
     ]
    }
   ],
   "source": [
    "# Use 5% of the dataset for testing various models\n",
    "# Split into training and test datasets\n",
    "train_df, test_df = train_test_split(df.sample(frac = 0.05), test_size=0.2, random_state=0)"
   ]
  },
  {
   "cell_type": "code",
   "execution_count": 3,
   "id": "84f31509",
   "metadata": {},
   "outputs": [],
   "source": [
    "def create_gen():\n",
    "    # Load the Images with a generator and Data Augmentation\n",
    "    train_generator = tf.keras.preprocessing.image.ImageDataGenerator(\n",
    "        preprocessing_function=tf.keras.applications.mobilenet_v2.preprocess_input,\n",
    "        validation_split=0.1\n",
    "    )\n",
    "\n",
    "    test_generator = tf.keras.preprocessing.image.ImageDataGenerator(\n",
    "        preprocessing_function=tf.keras.applications.mobilenet_v2.preprocess_input\n",
    "    )\n",
    "\n",
    "    train_images = train_generator.flow_from_dataframe(\n",
    "        dataframe=train_df,\n",
    "        x_col='Filepath',\n",
    "        y_col='Label',\n",
    "        target_size=(224, 224),\n",
    "        color_mode='rgb',\n",
    "        class_mode='categorical',\n",
    "        batch_size=32,\n",
    "        shuffle=True,\n",
    "        seed=0,\n",
    "        subset='training',\n",
    "#         rotation_range=30, # Uncomment to use data augmentation\n",
    "#         zoom_range=0.15,\n",
    "#         width_shift_range=0.2,\n",
    "#         height_shift_range=0.2,\n",
    "#         shear_range=0.15,\n",
    "#         horizontal_flip=True,\n",
    "#         fill_mode=\"nearest\"\n",
    "    )\n",
    "\n",
    "    val_images = train_generator.flow_from_dataframe(\n",
    "        dataframe=train_df,\n",
    "        x_col='Filepath',\n",
    "        y_col='Label',\n",
    "        target_size=(224, 224),\n",
    "        color_mode='rgb',\n",
    "        class_mode='categorical',\n",
    "        batch_size=32,\n",
    "        shuffle=True,\n",
    "        seed=0,\n",
    "        subset='validation',\n",
    "#         rotation_range=30, # Uncomment to use data augmentation\n",
    "#         zoom_range=0.15,\n",
    "#         width_shift_range=0.2,\n",
    "#         height_shift_range=0.2,\n",
    "#         shear_range=0.15,\n",
    "#         horizontal_flip=True,\n",
    "#         fill_mode=\"nearest\"\n",
    "    )\n",
    "\n",
    "    test_images = test_generator.flow_from_dataframe(\n",
    "        dataframe=test_df,\n",
    "        x_col='Filepath',\n",
    "        y_col='Label',\n",
    "        target_size=(224, 224),\n",
    "        color_mode='rgb',\n",
    "        class_mode='categorical',\n",
    "        batch_size=32,\n",
    "        shuffle=False\n",
    "    )\n",
    "    \n",
    "    return train_generator,test_generator,train_images,val_images,test_images"
   ]
  },
  {
   "cell_type": "code",
   "execution_count": 4,
   "id": "d643f55a",
   "metadata": {},
   "outputs": [],
   "source": [
    "def get_model(model):\n",
    "# Load the pretained model\n",
    "    kwargs =    {'input_shape': (224, 224, 3),\n",
    "                'include_top': False,\n",
    "                'weights':'imagenet',\n",
    "                'pooling':'avg'}\n",
    "    \n",
    "    pretrained_model = model(**kwargs)\n",
    "    print(model)\n",
    "    pretrained_model.trainable = False\n",
    "    \n",
    "    inputs = pretrained_model.input\n",
    "\n",
    "    x = tf.keras.layers.Dense(128, activation='relu')(pretrained_model.output)\n",
    "    x = tf.keras.layers.Dense(128, activation='relu')(x)\n",
    "\n",
    "    outputs = tf.keras.layers.Dense(29, activation='softmax')(x)\n",
    "\n",
    "    model = tf.keras.Model(inputs=inputs, outputs=outputs)\n",
    "\n",
    "    model.compile(\n",
    "        optimizer='adam',\n",
    "        loss='categorical_crossentropy',\n",
    "        metrics=['accuracy']\n",
    "    )\n",
    "    \n",
    "    return model"
   ]
  },
  {
   "cell_type": "code",
   "execution_count": 5,
   "id": "4451d0a4",
   "metadata": {},
   "outputs": [
    {
     "name": "stdout",
     "output_type": "stream",
     "text": [
      "\n",
      "\n",
      "<function MobileNet at 0x13fb88ee0>\n"
     ]
    }
   ],
   "source": [
    "# Dictionary with the models\n",
    "models = {\n",
    "#     \"DenseNet121\": {\"model\":tf.keras.applications.DenseNet121, \"perf\":0},\n",
    "#     \"MobileNetV2\": {\"model\":tf.keras.applications.MobileNetV2, \"perf\":0},\n",
    "#     \"DenseNet169\": {\"model\":tf.keras.applications.DenseNet169, \"perf\":0},\n",
    "#     \"DenseNet201\": {\"model\":tf.keras.applications.DenseNet201, \"perf\":0},\n",
    "#     \"EfficientNetB0\": {\"model\":tf.keras.applications.EfficientNetB0, \"perf\":0},\n",
    "#     \"EfficientNetB1\": {\"model\":tf.keras.applications.EfficientNetB1, \"perf\":0},\n",
    "#     \"EfficientNetB2\": {\"model\":tf.keras.applications.EfficientNetB2, \"perf\":0},\n",
    "#     \"EfficientNetB3\": {\"model\":tf.keras.applications.EfficientNetB3, \"perf\":0},\n",
    "#     \"EfficientNetB4\": {\"model\":tf.keras.applications.EfficientNetB4, \"perf\":0},\n",
    "#     \"EfficientNetB5\": {\"model\":tf.keras.applications.EfficientNetB4, \"perf\":0},\n",
    "#     \"EfficientNetB6\": {\"model\":tf.keras.applications.EfficientNetB4, \"perf\":0},\n",
    "#     \"EfficientNetB7\": {\"model\":tf.keras.applications.EfficientNetB4, \"perf\":0},\n",
    "#     \"InceptionResNetV2\": {\"model\":tf.keras.applications.InceptionResNetV2, \"perf\":0},\n",
    "#     \"InceptionV3\": {\"model\":tf.keras.applications.InceptionV3, \"perf\":0},\n",
    "    \"MobileNet\": {\"model\":tf.keras.applications.MobileNet, \"perf\":0},\n",
    "#     \"MobileNetV2\": {\"model\":tf.keras.applications.MobileNetV2, \"perf\":0},\n",
    "#     \"MobileNetV3Large\": {\"model\":tf.keras.applications.MobileNetV3Large, \"perf\":0},\n",
    "#     \"MobileNetV3Small\": {\"model\":tf.keras.applications.MobileNetV3Small, \"perf\":0},\n",
    "#     \"NASNetMobile\": {\"model\":tf.keras.applications.NASNetMobile, \"perf\":0},\n",
    "#     \"ResNet101\": {\"model\":tf.keras.applications.ResNet101, \"perf\":0},\n",
    "#     \"ResNet101V2\": {\"model\":tf.keras.applications.ResNet101V2, \"perf\":0},\n",
    "#     \"ResNet152\": {\"model\":tf.keras.applications.ResNet152, \"perf\":0},\n",
    "#     \"ResNet152V2\": {\"model\":tf.keras.applications.ResNet152V2, \"perf\":0},\n",
    "#     \"ResNet50\": {\"model\":tf.keras.applications.ResNet50, \"perf\":0},\n",
    "#     \"ResNet50V2\": {\"model\":tf.keras.applications.ResNet50V2, \"perf\":0},\n",
    "#     \"VGG16\": {\"model\":tf.keras.applications.VGG16, \"perf\":0},\n",
    "#     \"VGG19\": {\"model\":tf.keras.applications.VGG19, \"perf\":0},\n",
    "#     \"Xception\": {\"model\":tf.keras.applications.Xception, \"perf\":0}\n",
    "}\n",
    "\n",
    "# Create the generators\n",
    "# train_generator, test_generator,train_images,val_images,test_images=create_gen()\n",
    "print('\\n')\n",
    "\n",
    "# Fit the models\n",
    "for name, model in models.items():\n",
    "    \n",
    "    # Get the model\n",
    "    m = get_model(model['model'])\n",
    "    models[name]['model'] = m\n",
    "    \n",
    "#     start = perf_counter()\n",
    "    \n",
    "#     # Fit the model\n",
    "#     history = m.fit(train_images,validation_data=val_images,epochs=1,verbose=0)\n",
    "    \n",
    "#     # Sav the duration and the val_accuracy\n",
    "#     duration = perf_counter() - start\n",
    "#     duration = round(duration,2)\n",
    "#     models[name]['perf'] = duration\n",
    "#     print(f\"{name:20} trained in {duration} sec\")\n",
    "    \n",
    "#     val_acc = history.history['val_accuracy']\n",
    "#     models[name]['val_acc'] = [round(v,4) for v in val_acc]"
   ]
  },
  {
   "cell_type": "code",
   "execution_count": 6,
   "id": "110c125e",
   "metadata": {},
   "outputs": [],
   "source": [
    "models_result = []\n",
    "\n",
    "for name, v in models.items():\n",
    "    models_result.append([ name, models[name], \n",
    "                          models[name]['perf']])\n",
    "    \n",
    "df_results = pd.DataFrame(models_result, \n",
    "                          columns = ['model','val_accuracy','Training time (sec)'])"
   ]
  },
  {
   "cell_type": "code",
   "execution_count": 7,
   "id": "6a7c54ed",
   "metadata": {},
   "outputs": [],
   "source": [
    "checkpoint_path = \"cp.ckpt\"\n",
    "checkpoint_path = \"/Users/aringuyen/Desktop/cp.ckpt\""
   ]
  },
  {
   "cell_type": "code",
   "execution_count": 8,
   "id": "aa3bc944",
   "metadata": {},
   "outputs": [
    {
     "name": "stdout",
     "output_type": "stream",
     "text": [
      "<function MobileNet at 0x13fb88ee0>\n"
     ]
    },
    {
     "data": {
      "text/plain": [
       "<tensorflow.python.keras.engine.functional.Functional at 0x1487a5730>"
      ]
     },
     "execution_count": 8,
     "metadata": {},
     "output_type": "execute_result"
    }
   ],
   "source": [
    "best_model = df_results.iloc[0]\n",
    "model = get_model(eval(\"tf.keras.applications.\"+ best_model[0]) )\n",
    "model.load_weights(checkpoint_path)\n",
    "model"
   ]
  },
  {
   "cell_type": "code",
   "execution_count": 9,
   "id": "0ce2688c",
   "metadata": {},
   "outputs": [],
   "source": [
    "from PIL import Image\n",
    "import numpy as np\n",
    "from skimage import transform\n",
    "def load(filename):\n",
    "    np_image = Image.open(filename)\n",
    "    np_image = np.array(np_image).astype('float32')/255\n",
    "    np_image = transform.resize(np_image, (224, 224, 3))\n",
    "    np_image = np.expand_dims(np_image, axis=0)\n",
    "    return np_image"
   ]
  },
  {
   "cell_type": "code",
   "execution_count": 57,
   "id": "f91a040e",
   "metadata": {},
   "outputs": [],
   "source": [
    "# Predict the label of the test_images\n",
    "# img  = load('/Users/aringuyen/Desktop/PROJECTS/Game-SignLanguage/RealTimeObjectDetection/Tensorflow/workspace/images/collectedimages/y/Y1003.jpeg')\n",
    "# img = load('/Users/aringuyen/Desktop/PROJECTS/Game-SignLanguage/RealTimeObjectDetection/Tensorflow/workspace/images/collectedimages/z/Z1.jpeg') \n",
    "# img = load('/Users/aringuyen/Desktop/PROJECTS/Game-SignLanguage/RealTimeObjectDetection/Tensorflow/workspace/images/train/y.24fcec37-9fa9-11eb-add5-8c8caa784d19.jpg')\n",
    "# img = load('/Users/aringuyen/Desktop/PROJECTS/Game-SignLanguage/RealTimeObjectDetection/Tensorflow/workspace/images/collectedimages/w/W10.jpeg')\n",
    "img = load('/Users/aringuyen/Desktop/PROJECTS/Game-SignLanguage/RealTimeObjectDetection/Tensorflow/workspace/images/collectedimages/b/b.1348e65c-a01a-11eb-ab8a-f01898155646.jpg')\n",
    "pred = model.predict(img)\n",
    "# pred = np.argmax(pred,axis=1)\n",
    "\n"
   ]
  },
  {
   "cell_type": "code",
   "execution_count": 58,
   "id": "e5e83f27",
   "metadata": {},
   "outputs": [
    {
     "data": {
      "text/plain": [
       "array([[1.19831304e-06, 5.57351947e-01, 5.97996332e-05, 2.37667191e-05,\n",
       "        3.71937722e-01, 1.77541333e-05, 1.75256236e-08, 1.31797606e-06,\n",
       "        2.11181739e-08, 1.06132152e-08, 3.66524855e-09, 6.79350080e-07,\n",
       "        3.13861779e-06, 2.78311660e-07, 1.75556593e-07, 4.86023111e-10,\n",
       "        9.85817294e-09, 4.20245897e-06, 7.66823746e-07, 8.76679508e-07,\n",
       "        4.11077635e-03, 3.56818491e-04, 6.60606474e-02, 6.41705401e-06,\n",
       "        1.86936044e-09, 3.93128175e-07, 6.11273717e-05, 1.07260846e-07,\n",
       "        4.96861752e-08]], dtype=float32)"
      ]
     },
     "execution_count": 58,
     "metadata": {},
     "output_type": "execute_result"
    }
   ],
   "source": [
    "pred"
   ]
  },
  {
   "cell_type": "code",
   "execution_count": 59,
   "id": "6ef7f6cc",
   "metadata": {},
   "outputs": [
    {
     "data": {
      "text/plain": [
       "{0: 'A',\n",
       " 1: 'B',\n",
       " 2: 'C',\n",
       " 3: 'D',\n",
       " 4: 'E',\n",
       " 5: 'F',\n",
       " 6: 'G',\n",
       " 7: 'H',\n",
       " 8: 'I',\n",
       " 9: 'J',\n",
       " 10: 'K',\n",
       " 11: 'L',\n",
       " 12: 'M',\n",
       " 13: 'N',\n",
       " 14: 'O',\n",
       " 15: 'P',\n",
       " 16: 'Q',\n",
       " 17: 'R',\n",
       " 18: 'S',\n",
       " 19: 'T',\n",
       " 20: 'U',\n",
       " 21: 'V',\n",
       " 22: 'W',\n",
       " 23: 'X',\n",
       " 24: 'Y',\n",
       " 25: 'Z',\n",
       " 26: 'del',\n",
       " 27: 'nothing',\n",
       " 28: 'space'}"
      ]
     },
     "execution_count": 59,
     "metadata": {},
     "output_type": "execute_result"
    }
   ],
   "source": [
    "labels = {0: 'A', 1: 'B', 2: 'C', 3: 'D', 4: 'E', 5: 'F', 6: 'G', 7: 'H', 8: 'I', 9: 'J', 10: 'K', 11: 'L', 12: 'M', 13: 'N', 14: 'O', 15: 'P', 16: 'Q', 17: 'R', 18: 'S', 19: 'T', 20: 'U', 21: 'V', 22: 'W', 23: 'X', 24: 'Y', 25: 'Z', 26: 'del', 27: 'nothing', 28: 'space'}\n",
    "labels"
   ]
  },
  {
   "cell_type": "code",
   "execution_count": 60,
   "id": "a4259008",
   "metadata": {},
   "outputs": [],
   "source": [
    "result = labels[pred.argmax(axis=1)[0]]"
   ]
  },
  {
   "cell_type": "code",
   "execution_count": 61,
   "id": "467a9548",
   "metadata": {},
   "outputs": [
    {
     "data": {
      "text/plain": [
       "'B'"
      ]
     },
     "execution_count": 61,
     "metadata": {},
     "output_type": "execute_result"
    }
   ],
   "source": [
    "result"
   ]
  },
  {
   "cell_type": "code",
   "execution_count": 62,
   "id": "4d1c2103",
   "metadata": {},
   "outputs": [
    {
     "data": {
      "text/plain": [
       "array([1])"
      ]
     },
     "execution_count": 62,
     "metadata": {},
     "output_type": "execute_result"
    }
   ],
   "source": [
    "pred.argmax(axis=1)"
   ]
  },
  {
   "cell_type": "code",
   "execution_count": null,
   "id": "2b32cd73",
   "metadata": {},
   "outputs": [],
   "source": []
  }
 ],
 "metadata": {
  "kernelspec": {
   "display_name": "Python 3",
   "language": "python",
   "name": "python3"
  },
  "language_info": {
   "codemirror_mode": {
    "name": "ipython",
    "version": 3
   },
   "file_extension": ".py",
   "mimetype": "text/x-python",
   "name": "python",
   "nbconvert_exporter": "python",
   "pygments_lexer": "ipython3",
   "version": "3.8.2"
  }
 },
 "nbformat": 4,
 "nbformat_minor": 5
}
